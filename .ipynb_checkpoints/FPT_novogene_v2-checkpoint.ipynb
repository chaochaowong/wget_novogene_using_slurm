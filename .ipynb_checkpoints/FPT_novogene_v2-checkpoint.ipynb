{
 "cells": [
  {
   "cell_type": "code",
   "execution_count": 11,
   "metadata": {
    "tags": []
   },
   "outputs": [],
   "source": [
    "from ftplib import FTP\n",
    "import subprocess"
   ]
  },
  {
   "cell_type": "markdown",
   "metadata": {},
   "source": [
    "# Use FPT to get the full URLs for all the samples\n",
    "Use the `FTP` from fptlib library to get the full URLs for all the samples"
   ]
  },
  {
   "cell_type": "code",
   "execution_count": 12,
   "metadata": {
    "tags": []
   },
   "outputs": [],
   "source": [
    "def get_full_paths (host, user, password):\n",
    "    \"\"\"\n",
    "    Returns the path of the FTP server.\n",
    "\n",
    "    Parameters: given by Novogenes\n",
    "    host (str): host name\n",
    "    user(str): user name\n",
    "    password (str): passward\n",
    "\n",
    "    Returns:\n",
    "    str: list of folders of from FTP path\n",
    "    \"\"\"\n",
    "    \n",
    "    directory = f\"ftp://{user}:{password}@{host}:21/01.RawData\"\n",
    "    ftp = FTP(host)\n",
    "    ftp.login(user = user, passwd = password)  # omit or replace with your username and password as needed\n",
    "    ftp.cwd('01.RawData')  # change to the target directory\n",
    "    files = ftp.nlst() \n",
    "    full_paths = [f\"{directory}/{file}\" for file in files]\n",
    "    ftp.quit()\n",
    "    \n",
    "    return (full_paths);"
   ]
  },
  {
   "cell_type": "markdown",
   "metadata": {},
   "source": [
    "## Use `subprocess`\n",
    "Use `subprocess` to excute shell comment to invoke wget_novogene.sh. Tested on Sep. 24, 2024."
   ]
  },
  {
   "cell_type": "code",
   "execution_count": 14,
   "metadata": {
    "tags": []
   },
   "outputs": [],
   "source": [
    "def check_directory(dest_path):\n",
    "    if not os.path.isdir(dest_path):\n",
    "        print(f\"Directory does not exist: {dest_path}\")\n",
    "        return False  # Return False to indicate directory doesn't exist\n",
    "    return True  # Return True if the directory exists\n",
    "\n",
    "def check_file_exists(file_path):\n",
    "    if not os.path.isfile(file_path):\n",
    "        print(f\"File does not exists: {file_path}\")\n",
    "        return False\n",
    "    return True\n",
    "\n",
    "def summit_subprocess_slurm(slurm_shell, full_paths, dest_path, \n",
    "                            account='cpu-Sarthy_lab-sponsored'):\n",
    "    \"\"\"\n",
    "    Returns the result of the PBS job sumission\n",
    "\n",
    "    Parameters:\n",
    "    slurm_shell (str): path to the slurm shell script\n",
    "    full_paths (list str): a list of full URL of Novogene FTP folders of all samples\n",
    "    dest_path (str): destination path\n",
    "    account (str): sasquatch sponsored account, i.e., cpu-<assoc lab>-sponsored\n",
    "\n",
    "    Returns:\n",
    "    str: list of subprocess result\n",
    "    \"\"\"\n",
    "    \n",
    "    result =[];\n",
    "    \n",
    "    # sanity check dest_path and slurm_shell\n",
    "    if not check_directory(dest_path):\n",
    "        return;\n",
    "    \n",
    "    if not check_file_exists(slurm_shell):\n",
    "        return;\n",
    "    \n",
    "    for path in full_paths:\n",
    "        cmt = f\"sbatch --account {account} {slurm_shell} {path} {dest_path}\"\n",
    "        msg = subprocess.run(cmt,  shell=True, capture_output=True, text=True)\n",
    "        result.append(msg);\n",
    "        \n",
    "    # Handling the result \n",
    "    for l in result:\n",
    "        if l.returncode == 0:\n",
    "            print(\"Command executed successfully!\")\n",
    "            print(\"Output:\\n\", l.stdout)\n",
    "        else:\n",
    "            print(\"Error:\", result.stderr)\n",
    "    return result;\n",
    "    "
   ]
  },
  {
   "cell_type": "markdown",
   "metadata": {},
   "source": [
    "# Define parameters"
   ]
  },
  {
   "cell_type": "code",
   "execution_count": 33,
   "metadata": {
    "tags": []
   },
   "outputs": [
    {
     "name": "stdout",
     "output_type": "stream",
     "text": [
      "The directory /data/hps/assoc/private/sarthy_lab/NGS/FASTQs/GBe11_M07e_WSU-AML_Palbo_FHD286_24-48hr_ATACseq exists.\n"
     ]
    }
   ],
   "source": [
    "# define parameters: (1) host, user, password, (2) dest_path, cluster_account, slurm_shell\n",
    "import os\n",
    "\n",
    "# (1)\n",
    "host = 'usftp21.novogene.com'\n",
    "user = 'X202SC24091045-Z01-F001'\n",
    "password = 'knd01dmu'\n",
    "\n",
    "# (2) example\n",
    "main_dir = '/data/hps/assoc/private/sarthy_lab/NGS/FASTQs'\n",
    "main_dir = '/data/hps/assoc/private/sarthy_lab'\n",
    "exp_id   = 'GBe11_M07e_WSU-AML_Palbo_FHD286_24-48hr_ATACseq'\n",
    "dest_path = os.path.join(main_dir, 'NGS/FASTQs', exp_id)\n",
    "cluster_account = 'cpu-Sarthy_lab-sponsored'\n",
    "slurm_shell = os.path.join(main_dir, \n",
    "                           '/user/cwo11/projects/wget_novogene_using_slurm/wget_novogene.sh')"
   ]
  },
  {
   "cell_type": "markdown",
   "metadata": {
    "tags": []
   },
   "source": [
    "# Actions\n",
    "- `get_full_path(host, user, password)`\n",
    "- `summit_subprocess_slurm(slurm_shell, full_paths, dest_path, account)`"
   ]
  },
  {
   "cell_type": "code",
   "execution_count": 31,
   "metadata": {
    "collapsed": true,
    "jupyter": {
     "outputs_hidden": true
    },
    "tags": []
   },
   "outputs": [
    {
     "ename": "ConnectionResetError",
     "evalue": "[Errno 104] Connection reset by peer",
     "output_type": "error",
     "traceback": [
      "\u001b[0;31m---------------------------------------------------------------------------\u001b[0m",
      "\u001b[0;31mConnectionResetError\u001b[0m                      Traceback (most recent call last)",
      "Cell \u001b[0;32mIn[31], line 2\u001b[0m\n\u001b[1;32m      1\u001b[0m \u001b[38;5;66;03m# get full URLs for each samples\u001b[39;00m\n\u001b[0;32m----> 2\u001b[0m full_paths \u001b[38;5;241m=\u001b[39m \u001b[43mget_full_paths\u001b[49m\u001b[43m(\u001b[49m\u001b[43mhost\u001b[49m\u001b[43m,\u001b[49m\u001b[43m \u001b[49m\u001b[43muser\u001b[49m\u001b[43m,\u001b[49m\u001b[43m \u001b[49m\u001b[43mpassword\u001b[49m\u001b[43m)\u001b[49m\n\u001b[1;32m      3\u001b[0m full_paths\n",
      "Cell \u001b[0;32mIn[12], line 16\u001b[0m, in \u001b[0;36mget_full_paths\u001b[0;34m(host, user, password)\u001b[0m\n\u001b[1;32m     14\u001b[0m directory \u001b[38;5;241m=\u001b[39m \u001b[38;5;124mf\u001b[39m\u001b[38;5;124m\"\u001b[39m\u001b[38;5;124mftp://\u001b[39m\u001b[38;5;132;01m{\u001b[39;00muser\u001b[38;5;132;01m}\u001b[39;00m\u001b[38;5;124m:\u001b[39m\u001b[38;5;132;01m{\u001b[39;00mpassword\u001b[38;5;132;01m}\u001b[39;00m\u001b[38;5;124m@\u001b[39m\u001b[38;5;132;01m{\u001b[39;00mhost\u001b[38;5;132;01m}\u001b[39;00m\u001b[38;5;124m:21/01.RawData\u001b[39m\u001b[38;5;124m\"\u001b[39m\n\u001b[1;32m     15\u001b[0m ftp \u001b[38;5;241m=\u001b[39m FTP(host)\n\u001b[0;32m---> 16\u001b[0m \u001b[43mftp\u001b[49m\u001b[38;5;241;43m.\u001b[39;49m\u001b[43mlogin\u001b[49m\u001b[43m(\u001b[49m\u001b[43muser\u001b[49m\u001b[43m \u001b[49m\u001b[38;5;241;43m=\u001b[39;49m\u001b[43m \u001b[49m\u001b[43muser\u001b[49m\u001b[43m,\u001b[49m\n\u001b[1;32m     17\u001b[0m \u001b[43m         \u001b[49m\u001b[43mpasswd\u001b[49m\u001b[43m \u001b[49m\u001b[38;5;241;43m=\u001b[39;49m\u001b[43m \u001b[49m\u001b[43mpassword\u001b[49m\u001b[43m)\u001b[49m  \u001b[38;5;66;03m# omit or replace with your username and password as needed\u001b[39;00m\n\u001b[1;32m     18\u001b[0m ftp\u001b[38;5;241m.\u001b[39mcwd(\u001b[38;5;124m'\u001b[39m\u001b[38;5;124m01.RawData\u001b[39m\u001b[38;5;124m'\u001b[39m)  \u001b[38;5;66;03m# change to the target directory\u001b[39;00m\n\u001b[1;32m     19\u001b[0m files \u001b[38;5;241m=\u001b[39m ftp\u001b[38;5;241m.\u001b[39mnlst() \n",
      "File \u001b[0;32m/opt/python/3.12.5/lib/python3.12/ftplib.py:412\u001b[0m, in \u001b[0;36mFTP.login\u001b[0;34m(self, user, passwd, acct)\u001b[0m\n\u001b[1;32m    403\u001b[0m \u001b[38;5;28;01mif\u001b[39;00m user \u001b[38;5;241m==\u001b[39m \u001b[38;5;124m'\u001b[39m\u001b[38;5;124manonymous\u001b[39m\u001b[38;5;124m'\u001b[39m \u001b[38;5;129;01mand\u001b[39;00m passwd \u001b[38;5;129;01min\u001b[39;00m {\u001b[38;5;124m'\u001b[39m\u001b[38;5;124m'\u001b[39m, \u001b[38;5;124m'\u001b[39m\u001b[38;5;124m-\u001b[39m\u001b[38;5;124m'\u001b[39m}:\n\u001b[1;32m    404\u001b[0m     \u001b[38;5;66;03m# If there is no anonymous ftp password specified\u001b[39;00m\n\u001b[1;32m    405\u001b[0m     \u001b[38;5;66;03m# then we'll just use anonymous@\u001b[39;00m\n\u001b[0;32m   (...)\u001b[0m\n\u001b[1;32m    409\u001b[0m     \u001b[38;5;66;03m# - We don't want to let ftp sites to discriminate by the user,\u001b[39;00m\n\u001b[1;32m    410\u001b[0m     \u001b[38;5;66;03m#   host or country.\u001b[39;00m\n\u001b[1;32m    411\u001b[0m     passwd \u001b[38;5;241m=\u001b[39m passwd \u001b[38;5;241m+\u001b[39m \u001b[38;5;124m'\u001b[39m\u001b[38;5;124manonymous@\u001b[39m\u001b[38;5;124m'\u001b[39m\n\u001b[0;32m--> 412\u001b[0m resp \u001b[38;5;241m=\u001b[39m \u001b[38;5;28;43mself\u001b[39;49m\u001b[38;5;241;43m.\u001b[39;49m\u001b[43msendcmd\u001b[49m\u001b[43m(\u001b[49m\u001b[38;5;124;43m'\u001b[39;49m\u001b[38;5;124;43mUSER \u001b[39;49m\u001b[38;5;124;43m'\u001b[39;49m\u001b[43m \u001b[49m\u001b[38;5;241;43m+\u001b[39;49m\u001b[43m \u001b[49m\u001b[43muser\u001b[49m\u001b[43m)\u001b[49m\n\u001b[1;32m    413\u001b[0m \u001b[38;5;28;01mif\u001b[39;00m resp[\u001b[38;5;241m0\u001b[39m] \u001b[38;5;241m==\u001b[39m \u001b[38;5;124m'\u001b[39m\u001b[38;5;124m3\u001b[39m\u001b[38;5;124m'\u001b[39m:\n\u001b[1;32m    414\u001b[0m     resp \u001b[38;5;241m=\u001b[39m \u001b[38;5;28mself\u001b[39m\u001b[38;5;241m.\u001b[39msendcmd(\u001b[38;5;124m'\u001b[39m\u001b[38;5;124mPASS \u001b[39m\u001b[38;5;124m'\u001b[39m \u001b[38;5;241m+\u001b[39m passwd)\n",
      "File \u001b[0;32m/opt/python/3.12.5/lib/python3.12/ftplib.py:281\u001b[0m, in \u001b[0;36mFTP.sendcmd\u001b[0;34m(self, cmd)\u001b[0m\n\u001b[1;32m    279\u001b[0m \u001b[38;5;250m\u001b[39m\u001b[38;5;124;03m'''Send a command and return the response.'''\u001b[39;00m\n\u001b[1;32m    280\u001b[0m \u001b[38;5;28mself\u001b[39m\u001b[38;5;241m.\u001b[39mputcmd(cmd)\n\u001b[0;32m--> 281\u001b[0m \u001b[38;5;28;01mreturn\u001b[39;00m \u001b[38;5;28;43mself\u001b[39;49m\u001b[38;5;241;43m.\u001b[39;49m\u001b[43mgetresp\u001b[49m\u001b[43m(\u001b[49m\u001b[43m)\u001b[49m\n",
      "File \u001b[0;32m/opt/python/3.12.5/lib/python3.12/ftplib.py:244\u001b[0m, in \u001b[0;36mFTP.getresp\u001b[0;34m(self)\u001b[0m\n\u001b[1;32m    243\u001b[0m \u001b[38;5;28;01mdef\u001b[39;00m \u001b[38;5;21mgetresp\u001b[39m(\u001b[38;5;28mself\u001b[39m):\n\u001b[0;32m--> 244\u001b[0m     resp \u001b[38;5;241m=\u001b[39m \u001b[38;5;28;43mself\u001b[39;49m\u001b[38;5;241;43m.\u001b[39;49m\u001b[43mgetmultiline\u001b[49m\u001b[43m(\u001b[49m\u001b[43m)\u001b[49m\n\u001b[1;32m    245\u001b[0m     \u001b[38;5;28;01mif\u001b[39;00m \u001b[38;5;28mself\u001b[39m\u001b[38;5;241m.\u001b[39mdebugging:\n\u001b[1;32m    246\u001b[0m         \u001b[38;5;28mprint\u001b[39m(\u001b[38;5;124m'\u001b[39m\u001b[38;5;124m*resp*\u001b[39m\u001b[38;5;124m'\u001b[39m, \u001b[38;5;28mself\u001b[39m\u001b[38;5;241m.\u001b[39msanitize(resp))\n",
      "File \u001b[0;32m/opt/python/3.12.5/lib/python3.12/ftplib.py:230\u001b[0m, in \u001b[0;36mFTP.getmultiline\u001b[0;34m(self)\u001b[0m\n\u001b[1;32m    229\u001b[0m \u001b[38;5;28;01mdef\u001b[39;00m \u001b[38;5;21mgetmultiline\u001b[39m(\u001b[38;5;28mself\u001b[39m):\n\u001b[0;32m--> 230\u001b[0m     line \u001b[38;5;241m=\u001b[39m \u001b[38;5;28;43mself\u001b[39;49m\u001b[38;5;241;43m.\u001b[39;49m\u001b[43mgetline\u001b[49m\u001b[43m(\u001b[49m\u001b[43m)\u001b[49m\n\u001b[1;32m    231\u001b[0m     \u001b[38;5;28;01mif\u001b[39;00m line[\u001b[38;5;241m3\u001b[39m:\u001b[38;5;241m4\u001b[39m] \u001b[38;5;241m==\u001b[39m \u001b[38;5;124m'\u001b[39m\u001b[38;5;124m-\u001b[39m\u001b[38;5;124m'\u001b[39m:\n\u001b[1;32m    232\u001b[0m         code \u001b[38;5;241m=\u001b[39m line[:\u001b[38;5;241m3\u001b[39m]\n",
      "File \u001b[0;32m/opt/python/3.12.5/lib/python3.12/ftplib.py:212\u001b[0m, in \u001b[0;36mFTP.getline\u001b[0;34m(self)\u001b[0m\n\u001b[1;32m    211\u001b[0m \u001b[38;5;28;01mdef\u001b[39;00m \u001b[38;5;21mgetline\u001b[39m(\u001b[38;5;28mself\u001b[39m):\n\u001b[0;32m--> 212\u001b[0m     line \u001b[38;5;241m=\u001b[39m \u001b[38;5;28;43mself\u001b[39;49m\u001b[38;5;241;43m.\u001b[39;49m\u001b[43mfile\u001b[49m\u001b[38;5;241;43m.\u001b[39;49m\u001b[43mreadline\u001b[49m\u001b[43m(\u001b[49m\u001b[38;5;28;43mself\u001b[39;49m\u001b[38;5;241;43m.\u001b[39;49m\u001b[43mmaxline\u001b[49m\u001b[43m \u001b[49m\u001b[38;5;241;43m+\u001b[39;49m\u001b[43m \u001b[49m\u001b[38;5;241;43m1\u001b[39;49m\u001b[43m)\u001b[49m\n\u001b[1;32m    213\u001b[0m     \u001b[38;5;28;01mif\u001b[39;00m \u001b[38;5;28mlen\u001b[39m(line) \u001b[38;5;241m>\u001b[39m \u001b[38;5;28mself\u001b[39m\u001b[38;5;241m.\u001b[39mmaxline:\n\u001b[1;32m    214\u001b[0m         \u001b[38;5;28;01mraise\u001b[39;00m Error(\u001b[38;5;124m\"\u001b[39m\u001b[38;5;124mgot more than \u001b[39m\u001b[38;5;132;01m%d\u001b[39;00m\u001b[38;5;124m bytes\u001b[39m\u001b[38;5;124m\"\u001b[39m \u001b[38;5;241m%\u001b[39m \u001b[38;5;28mself\u001b[39m\u001b[38;5;241m.\u001b[39mmaxline)\n",
      "File \u001b[0;32m/opt/python/3.12.5/lib/python3.12/socket.py:720\u001b[0m, in \u001b[0;36mSocketIO.readinto\u001b[0;34m(self, b)\u001b[0m\n\u001b[1;32m    718\u001b[0m \u001b[38;5;28;01mwhile\u001b[39;00m \u001b[38;5;28;01mTrue\u001b[39;00m:\n\u001b[1;32m    719\u001b[0m     \u001b[38;5;28;01mtry\u001b[39;00m:\n\u001b[0;32m--> 720\u001b[0m         \u001b[38;5;28;01mreturn\u001b[39;00m \u001b[38;5;28;43mself\u001b[39;49m\u001b[38;5;241;43m.\u001b[39;49m\u001b[43m_sock\u001b[49m\u001b[38;5;241;43m.\u001b[39;49m\u001b[43mrecv_into\u001b[49m\u001b[43m(\u001b[49m\u001b[43mb\u001b[49m\u001b[43m)\u001b[49m\n\u001b[1;32m    721\u001b[0m     \u001b[38;5;28;01mexcept\u001b[39;00m timeout:\n\u001b[1;32m    722\u001b[0m         \u001b[38;5;28mself\u001b[39m\u001b[38;5;241m.\u001b[39m_timeout_occurred \u001b[38;5;241m=\u001b[39m \u001b[38;5;28;01mTrue\u001b[39;00m\n",
      "\u001b[0;31mConnectionResetError\u001b[0m: [Errno 104] Connection reset by peer"
     ]
    }
   ],
   "source": [
    "# get full URLs for each samples\n",
    "full_paths = get_full_paths(host, user, password)\n",
    "filtered_paths = [p for p in full_paths if 'Undetermined' not in p]\n",
    "filtered_paths"
   ]
  },
  {
   "cell_type": "code",
   "execution_count": 26,
   "metadata": {
    "tags": []
   },
   "outputs": [
    {
     "data": {
      "text/plain": [
       "\u001b[0;31mSignature:\u001b[0m \u001b[0mftp\u001b[0m\u001b[0;34m.\u001b[0m\u001b[0mlogin\u001b[0m\u001b[0;34m(\u001b[0m\u001b[0muser\u001b[0m\u001b[0;34m=\u001b[0m\u001b[0;34m''\u001b[0m\u001b[0;34m,\u001b[0m \u001b[0mpasswd\u001b[0m\u001b[0;34m=\u001b[0m\u001b[0;34m''\u001b[0m\u001b[0;34m,\u001b[0m \u001b[0macct\u001b[0m\u001b[0;34m=\u001b[0m\u001b[0;34m''\u001b[0m\u001b[0;34m)\u001b[0m\u001b[0;34m\u001b[0m\u001b[0;34m\u001b[0m\u001b[0m\n",
       "\u001b[0;31mDocstring:\u001b[0m Login, default anonymous.\n",
       "\u001b[0;31mFile:\u001b[0m      /opt/python/3.12.5/lib/python3.12/ftplib.py\n",
       "\u001b[0;31mType:\u001b[0m      method"
      ]
     },
     "metadata": {},
     "output_type": "display_data"
    }
   ],
   "source": [
    "resutls = summit_subprocess_slurm(slurm_shell = slurm_shell, \n",
    "                                  full_paths = filtered_paths, \n",
    "                                  dest_path = dest_path, \n",
    "                                  account = cluster_account)\n"
   ]
  },
  {
   "cell_type": "code",
   "execution_count": null,
   "metadata": {},
   "outputs": [],
   "source": [
    "# this is what get-full_paths() do\n",
    "directory = f\"ftp://{user}:{password}@{host}:21/01.RawData\"\n",
    "ftp = FTP(host)\n",
    "ftp.login(user = user,\n",
    "          passwd = password)  # omit or replace with your username and password as needed\n",
    "ftp.cwd('01.RawData')  # change to the target directory\n",
    "files = ftp.nlst() \n",
    "full_paths = [f\"{directory}/{file}\" for file in files]\n",
    "fpt.quits()"
   ]
  }
 ],
 "metadata": {
  "kernelspec": {
   "display_name": "Python 3 (ipykernel)",
   "language": "python",
   "name": "python3"
  },
  "language_info": {
   "codemirror_mode": {
    "name": "ipython",
    "version": 3
   },
   "file_extension": ".py",
   "mimetype": "text/x-python",
   "name": "python",
   "nbconvert_exporter": "python",
   "pygments_lexer": "ipython3",
   "version": "3.12.5"
  }
 },
 "nbformat": 4,
 "nbformat_minor": 4
}
