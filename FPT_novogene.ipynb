{
 "cells": [
  {
   "cell_type": "code",
   "execution_count": null,
   "metadata": {
    "tags": []
   },
   "outputs": [],
   "source": [
    "from ftplib import FTP\n",
    "import subprocess\n",
    "from urllib.parse import urlparse\n",
    "import os"
   ]
  },
  {
   "cell_type": "markdown",
   "metadata": {},
   "source": [
    "# Use FPT to get the full URLs for all the samples\n",
    "Use the `FTP` from fptlib library to get the full URLs for all the samples"
   ]
  },
  {
   "cell_type": "code",
   "execution_count": null,
   "metadata": {
    "tags": []
   },
   "outputs": [],
   "source": [
    "def get_full_paths (host, user, password):\n",
    "    \"\"\"\n",
    "    Returns the path of the FTP server.\n",
    "\n",
    "    Parameters: given by Novogenes\n",
    "    host (str): host name\n",
    "    user(str): user name\n",
    "    password (str): passward\n",
    "\n",
    "    Returns:\n",
    "    str: list of folders of from FTP path\n",
    "    \"\"\"\n",
    "    \n",
    "    directory = f\"ftp://{user}:{password}@{host}:21/01.RawData\"\n",
    "    ftp = FTP(host)\n",
    "    ftp.login(user = user, passwd = password)  # omit or replace with your username and password as needed\n",
    "    ftp.cwd('01.RawData')  # change to the target directory\n",
    "    files = ftp.nlst() \n",
    "    full_paths = [f\"{directory}/{file}\" for file in files]\n",
    "    ftp.quit()\n",
    "    \n",
    "    return (full_paths);"
   ]
  },
  {
   "cell_type": "markdown",
   "metadata": {},
   "source": [
    "## Use `subprocess`\n",
    "Use `subprocess` to excute shell comment to invoke wget_novogene.sh. Tested on Sep. 24, 2024."
   ]
  },
  {
   "cell_type": "code",
   "execution_count": null,
   "metadata": {
    "tags": []
   },
   "outputs": [],
   "source": [
    "def check_directory(dest_path):\n",
    "    if not os.path.isdir(dest_path):\n",
    "        print(f\"Directory does not exist: {dest_path}\")\n",
    "        return False;  # Return False to indicate directory doesn't exist\n",
    "    return True;  # Return True if the directory exists\n",
    "\n",
    "def check_file_exists(file_path):\n",
    "    if not os.path.isfile(file_path):\n",
    "        print(f\"File does not exists: {file_path}\")\n",
    "        return False;\n",
    "    return True;\n",
    "\n",
    "def get_last_level(ftp_url):\n",
    "    parsed_url = urlparse(ftp_url)\n",
    "    path = parsed_url.path\n",
    "    # Split the path into its components and get the last two parts\n",
    "    last_levels = '/'.join(path.strip('/').split('/')[-1:])\n",
    "    return last_levels;\n",
    "\n",
    "\n",
    "def submit_subprocess_slurm(slurm_shell, full_paths, dest_path, \n",
    "                            mail_user,\n",
    "                            account='cpu-Sarthy_lab-sponsored'):\n",
    "    \"\"\"\n",
    "    Returns the result of the PBS job sumission\n",
    "\n",
    "    Parameters:\n",
    "    slurm_shell (str): path to the slurm shell script\n",
    "    full_paths (list str): a list of full URL of Novogene FTP folders of all samples\n",
    "    dest_path (str): destination path\n",
    "    account (str): sasquatch sponsored account, i.e., cpu-<assoc lab>-sponsored\n",
    "\n",
    "    Returns:\n",
    "    str: list of subprocess result\n",
    "    \"\"\"\n",
    "    \n",
    "    result =[];\n",
    "    \n",
    "    # sanity check dest_path and slurm_shell\n",
    "    if not check_directory(dest_path):\n",
    "        return;\n",
    "    \n",
    "    if not check_file_exists(slurm_shell):\n",
    "        return;\n",
    "    \n",
    "    for path in full_paths:\n",
    "        last_level = get_last_level(path)\n",
    "        # create a subdirectory of the dest_path\n",
    "        sub_dest = os.path.join(dest_path, last_level)\n",
    "        # exec comment\n",
    "        cmt = f\"sbatch --account {account} --mail-user {mail_user} {slurm_shell} {path} {sub_dest}\"\n",
    "        msg = subprocess.run(cmt, shell=True, capture_output=True, text=True)\n",
    "        result.append(msg);\n",
    "        \n",
    "    # Handling the result \n",
    "    for l in result:\n",
    "        if l.returncode == 0:\n",
    "            print(\"Command executed successfully!\")\n",
    "            print(\"Output:\\n\", l.stdout)\n",
    "        else:\n",
    "            print(\"Error:\", result.stderr)\n",
    "    return result;\n",
    "    "
   ]
  },
  {
   "cell_type": "markdown",
   "metadata": {
    "tags": []
   },
   "source": [
    "# Actions\n",
    "- `get_full_path(host, user, password)`\n",
    "- `summit_subprocess_slurm(slurm_shell, full_paths, dest_path, mail_user, account)`"
   ]
  },
  {
   "cell_type": "code",
   "execution_count": null,
   "metadata": {
    "tags": []
   },
   "outputs": [],
   "source": [
    "# get full URLs for each sample\n",
    "# (1) for calling get_full_path\n",
    "host = 'usftp21.novogene.com'\n",
    "user = ''\n",
    "password = ''\n",
    "\n",
    "# use get_full_paths to get FPT URLs\n",
    "full_paths = get_full_paths(host, user, password)\n",
    "filtered_paths = [p for p in full_paths if 'Undetermined' not in p]\n",
    "\n",
    "for item in filtered_paths:\n",
    "    print(item)"
   ]
  },
  {
   "cell_type": "code",
   "execution_count": null,
   "metadata": {},
   "outputs": [],
   "source": [
    "# define parameters\n",
    "main_dir = '/data/hps/assoc/private/sarthy_lab/NGS/FASTQs'\n",
    "dest_path = os.path.join(main_dir, 'testing_GBe11')\n",
    "cluster_account = 'cpu-Sarthy_lab-sponsored'\n",
    "mail_user = ''\n",
    "slurm_shell = os.path.join('/data/hps/assoc/private/sarthy_lab',\n",
    "                           'user/cwo11/projects',\n",
    "                           'wget_novogene_using_slurm',\n",
    "                           'wget_novogene.sh')\n",
    "\n",
    "\n",
    "# use subprocess.run() to invoke slurm to wget folder-by-folder in parallel\n",
    "resutls = submit_subprocess_slurm(slurm_shell = slurm_shell, \n",
    "                                  full_paths = filtered_paths, \n",
    "                                  dest_path = dest_path, \n",
    "                                  mail_user = mail_user,\n",
    "                                  account = cluster_account)"
   ]
  }
 ],
 "metadata": {
  "kernelspec": {
   "display_name": "Python 3 (ipykernel)",
   "language": "python",
   "name": "python3"
  },
  "language_info": {
   "codemirror_mode": {
    "name": "ipython",
    "version": 3
   },
   "file_extension": ".py",
   "mimetype": "text/x-python",
   "name": "python",
   "nbconvert_exporter": "python",
   "pygments_lexer": "ipython3",
   "version": "3.12.5"
  }
 },
 "nbformat": 4,
 "nbformat_minor": 4
}
