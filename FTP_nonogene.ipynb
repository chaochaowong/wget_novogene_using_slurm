{
 "cells": [
  {
   "cell_type": "code",
   "execution_count": 11,
   "metadata": {
    "tags": []
   },
   "outputs": [],
   "source": [
    "from ftplib import FTP\n",
    "import subprocess"
   ]
  },
  {
   "cell_type": "markdown",
   "metadata": {},
   "source": [
    "# Use FPT to get the full URLs for all the samples\n",
    "Use the `FTP` from fptlib library to get the full URLs for all the samples"
   ]
  },
  {
   "cell_type": "code",
   "execution_count": 12,
   "metadata": {
    "tags": []
   },
   "outputs": [],
   "source": [
    "def get_full_paths (host, user, password):\n",
    "    \"\"\"\n",
    "    Returns the path of the FTP server.\n",
    "\n",
    "    Parameters: given by Novogenes\n",
    "    host (str): host name\n",
    "    user(str): user name\n",
    "    password (str): passward\n",
    "\n",
    "    Returns:\n",
    "    str: list of folders of from FTP path\n",
    "    \"\"\"\n",
    "    \n",
    "    directory = f\"ftp://{user}:{password}@{host}:21/01.RawData\"\n",
    "    ftp = FTP(host)\n",
    "    ftp.login(user = user, passwd = password)  # omit or replace with your username and password as needed\n",
    "    ftp.cwd('01.RawData')  # change to the target directory\n",
    "    files = ftp.nlst() \n",
    "    full_paths = [f\"{directory}/{file}\" for file in files]\n",
    "    ftp.quit()\n",
    "    \n",
    "    return (full_paths);"
   ]
  },
  {
   "cell_type": "markdown",
   "metadata": {},
   "source": [
    "## Use `subprocess`\n",
    "Use `subprocess` to excute shell comment to invoke wget_novogene.sh. Tested on Sep. 24, 2024."
   ]
  },
  {
   "cell_type": "code",
   "execution_count": 14,
   "metadata": {
    "tags": []
   },
   "outputs": [],
   "source": [
    "def check_directory(dest_path):\n",
    "    if not os.path.isdir(dest_path):\n",
    "        print(f\"Directory does not exist: {dest_path}\")\n",
    "        return False  # Return False to indicate directory doesn't exist\n",
    "    return True  # Return True if the directory exists\n",
    "\n",
    "def check_file_exists(file_path):\n",
    "    if not os.path.isfile(file_path):\n",
    "        print(f\"File does not exists: {file_path}\")\n",
    "        return False\n",
    "    return True\n",
    "\n",
    "def summit_subprocess_slurm(slurm_shell, full_paths, dest_path, \n",
    "                            mail_user,\n",
    "                            account='cpu-Sarthy_lab-sponsored'):\n",
    "    \"\"\"\n",
    "    Returns the result of the PBS job sumission\n",
    "\n",
    "    Parameters:\n",
    "    slurm_shell (str): path to the slurm shell script\n",
    "    full_paths (list str): a list of full URL of Novogene FTP folders of all samples\n",
    "    dest_path (str): destination path\n",
    "    account (str): sasquatch sponsored account, i.e., cpu-<assoc lab>-sponsored\n",
    "\n",
    "    Returns:\n",
    "    str: list of subprocess result\n",
    "    \"\"\"\n",
    "    \n",
    "    result =[];\n",
    "    \n",
    "    # sanity check dest_path and slurm_shell\n",
    "    if not check_directory(dest_path):\n",
    "        return;\n",
    "    \n",
    "    if not check_file_exists(slurm_shell):\n",
    "        return;\n",
    "    \n",
    "    for path in full_paths:\n",
    "        cmt = f\"sbatch --account {account} --mail-user {main_user} {slurm_shell} {path} {dest_path}\"\n",
    "        msg = subprocess.run(cmt,  shell=True, capture_output=True, text=True)\n",
    "        result.append(msg);\n",
    "        \n",
    "    # Handling the result \n",
    "    for l in result:\n",
    "        if l.returncode == 0:\n",
    "            print(\"Command executed successfully!\")\n",
    "            print(\"Output:\\n\", l.stdout)\n",
    "        else:\n",
    "            print(\"Error:\", result.stderr)\n",
    "    return result;\n",
    "    "
   ]
  },
  {
   "cell_type": "markdown",
   "metadata": {},
   "source": [
    "# Define parameters"
   ]
  },
  {
   "cell_type": "code",
   "execution_count": 33,
   "metadata": {
    "tags": []
   },
   "outputs": [
    {
     "name": "stdout",
     "output_type": "stream",
     "text": [
      "The directory /data/hps/assoc/private/sarthy_lab/NGS/FASTQs/GBe11_M07e_WSU-AML_Palbo_FHD286_24-48hr_ATACseq exists.\n"
     ]
    }
   ],
   "source": [
    "# define parameters: (1) host, user, password, (2) dest_path, cluster_account, slurm_shell\n",
    "import os\n",
    "\n",
    "# (1)\n",
    "host = \n",
    "user = \n",
    "password = \n",
    "\n",
    "# (2) example\n",
    "main_dir = '/data/hps/assoc/private/sarthy_lab/NGS/FASTQs'\n",
    "main_dir = '/data/hps/assoc/private/sarthy_lab'\n",
    "exp_id   = 'GBe11_M07e_WSU-AML_Palbo_FHD286_24-48hr_ATACseq'\n",
    "dest_path = os.path.join(main_dir, 'NGS/FASTQs', exp_id)\n",
    "cluster_account = 'cpu-Sarthy_lab-sponsored'\n",
    "slurm_shell = os.path.join(main_dir, \n",
    "                           '/user/cwo11/projects/wget_novogene_using_slurm/wget_novogene.sh')\n",
    "mail_user = ''"
   ]
  },
  {
   "cell_type": "markdown",
   "metadata": {
    "tags": []
   },
   "source": [
    "# Actions\n",
    "- `get_full_path(host, user, password)`\n",
    "- `summit_subprocess_slurm(slurm_shell, full_paths, dest_path, account)`"
   ]
  },
  {
   "cell_type": "code",
   "execution_count": null,
   "metadata": {},
   "outputs": [],
   "source": [
    "# get full URLs for each samples\n",
    "full_paths = get_full_paths(host, user, password)\n",
    "filtered_paths = [p for p in full_paths if 'Undetermined' not in p]\n",
    "filtered_paths"
   ]
  },
  {
   "cell_type": "code",
   "execution_count": 26,
   "metadata": {
    "tags": []
   },
   "outputs": [
    {
     "data": {
      "text/plain": [
       "\u001b[0;31mSignature:\u001b[0m \u001b[0mftp\u001b[0m\u001b[0;34m.\u001b[0m\u001b[0mlogin\u001b[0m\u001b[0;34m(\u001b[0m\u001b[0muser\u001b[0m\u001b[0;34m=\u001b[0m\u001b[0;34m''\u001b[0m\u001b[0;34m,\u001b[0m \u001b[0mpasswd\u001b[0m\u001b[0;34m=\u001b[0m\u001b[0;34m''\u001b[0m\u001b[0;34m,\u001b[0m \u001b[0macct\u001b[0m\u001b[0;34m=\u001b[0m\u001b[0;34m''\u001b[0m\u001b[0;34m)\u001b[0m\u001b[0;34m\u001b[0m\u001b[0;34m\u001b[0m\u001b[0m\n",
       "\u001b[0;31mDocstring:\u001b[0m Login, default anonymous.\n",
       "\u001b[0;31mFile:\u001b[0m      /opt/python/3.12.5/lib/python3.12/ftplib.py\n",
       "\u001b[0;31mType:\u001b[0m      method"
      ]
     },
     "metadata": {},
     "output_type": "display_data"
    }
   ],
   "source": [
    "resutls = summit_subprocess_slurm(slurm_shell = slurm_shell, \n",
    "                                  full_paths = filtered_paths, \n",
    "                                  dest_path = dest_path, \n",
    "                                  mail_user = mail_user,\n",
    "                                  account = cluster_account)\n"
   ]
  },
  {
   "cell_type": "code",
   "execution_count": null,
   "metadata": {},
   "outputs": [],
   "source": [
    "# this is what get-full_paths() do\n",
    "directory = f\"ftp://{user}:{password}@{host}:21/01.RawData\"\n",
    "ftp = FTP(host)\n",
    "ftp.login(user = user,\n",
    "          passwd = password)  # omit or replace with your username and password as needed\n",
    "ftp.cwd('01.RawData')  # change to the target directory\n",
    "files = ftp.nlst() \n",
    "full_paths = [f\"{directory}/{file}\" for file in files]\n",
    "fpt.quits()"
   ]
  }
 ],
 "metadata": {
  "kernelspec": {
   "display_name": "Python 3 (ipykernel)",
   "language": "python",
   "name": "python3"
  },
  "language_info": {
   "codemirror_mode": {
    "name": "ipython",
    "version": 3
   },
   "file_extension": ".py",
   "mimetype": "text/x-python",
   "name": "python",
   "nbconvert_exporter": "python",
   "pygments_lexer": "ipython3",
   "version": "3.12.5"
  }
 },
 "nbformat": 4,
 "nbformat_minor": 4
}
