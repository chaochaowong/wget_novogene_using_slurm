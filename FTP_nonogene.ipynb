{
 "cells": [
  {
   "cell_type": "code",
   "execution_count": 11,
   "metadata": {
    "tags": []
   },
   "outputs": [],
   "source": [
    "from ftplib import FTP\n",
    "import subprocess"
   ]
  },
  {
   "cell_type": "markdown",
   "metadata": {},
   "source": [
    "# Use FPT to get the full URLs for all the samples\n",
    "Use the `FTP` from fptlib library to get the full URLs for all the samples"
   ]
  },
  {
   "cell_type": "code",
   "execution_count": 12,
   "metadata": {
    "tags": []
   },
   "outputs": [],
   "source": [
    "def get_full_paths (host, user, password):\n",
    "    \"\"\"\n",
    "    Returns the path of the FTP server.\n",
    "\n",
    "    Parameters: given by Novogenes\n",
    "    host (str): host name\n",
    "    user(str): user name\n",
    "    password (str): passward\n",
    "\n",
    "    Returns:\n",
    "    str: list of folders of from FTP path\n",
    "    \"\"\"\n",
    "    \n",
    "    directory = f\"ftp://{user}:{password}@{host}:21/01.RawData\"\n",
    "    ftp = FTP(host)\n",
    "    ftp.login(user = user, passwd = password)  # omit or replace with your username and password as needed\n",
    "    ftp.cwd('01.RawData')  # change to the target directory\n",
    "    files = ftp.nlst() \n",
    "    full_paths = [f\"{directory}/{file}\" for file in files]\n",
    "    ftp.quit()\n",
    "    \n",
    "    return (full_paths);"
   ]
  },
  {
   "cell_type": "markdown",
   "metadata": {},
   "source": [
    "## Use `subprocess`\n",
    "Use `subprocess` to excute shell comment to invoke wget_novogene.sh. Tested on Sep. 24, 2024."
   ]
  },
  {
   "cell_type": "code",
   "execution_count": 14,
   "metadata": {
    "tags": []
   },
   "outputs": [],
   "source": [
    "def check_directory(dest_path):\n",
    "    if not os.path.isdir(dest_path):\n",
    "        print(f\"Directory does not exist: {dest_path}\")\n",
    "        return False;  # Return False to indicate directory doesn't exist\n",
    "    return True;  # Return True if the directory exists\n",
    "\n",
    "def check_file_exists(file_path):\n",
    "    if not os.path.isfile(file_path):\n",
    "        print(f\"File does not exists: {file_path}\")\n",
    "        return False;\n",
    "    return True;\n",
    "\n",
    "def get_last_level(ftp_url):\n",
    "    parsed_url = urlparse(ftp_url)\n",
    "    path = parsed_url.path\n",
    "    # Split the path into its components and get the last two parts\n",
    "    last_levels = '/'.join(path.strip('/').split('/')[-1:])\n",
    "    return last_levels;\n",
    "\n",
    "\n",
    "def summit_subprocess_slurm(slurm_shell, full_paths, dest_path, \n",
    "                            mail_user,\n",
    "                            account='cpu-Sarthy_lab-sponsored'):\n",
    "    \"\"\"\n",
    "    Returns the result of the PBS job sumission\n",
    "\n",
    "    Parameters:\n",
    "    slurm_shell (str): path to the slurm shell script\n",
    "    full_paths (list str): a list of full URL of Novogene FTP folders of all samples\n",
    "    dest_path (str): destination path\n",
    "    account (str): sasquatch sponsored account, i.e., cpu-<assoc lab>-sponsored\n",
    "\n",
    "    Returns:\n",
    "    str: list of subprocess result\n",
    "    \"\"\"\n",
    "    \n",
    "    result =[];\n",
    "    \n",
    "    # sanity check dest_path and slurm_shell\n",
    "    if not check_directory(dest_path):\n",
    "        return;\n",
    "    \n",
    "    if not check_file_exists(slurm_shell):\n",
    "        return;\n",
    "    \n",
    "    for path in full_paths:\n",
    "        last_level = get_last_level(path)\n",
    "        # create a subdirectory of the dest_path\n",
    "        sub_dest = os.path.join(dest_path, last_level)\n",
    "        # exec comment\n",
    "        cmt = f\"sbatch --account {account} --mail-user {mail_user} {slurm_shell} {path} {sub_dest}\"\n",
    "        msg = subprocess.run(cmt, shell=True, capture_output=True, text=True)\n",
    "        result.append(msg);\n",
    "        \n",
    "    # Handling the result \n",
    "    for l in result:\n",
    "        if l.returncode == 0:\n",
    "            print(\"Command executed successfully!\")\n",
    "            print(\"Output:\\n\", l.stdout)\n",
    "        else:\n",
    "            print(\"Error:\", result.stderr)\n",
    "    return result;\n",
    "    "
   ]
  },
  {
   "cell_type": "markdown",
   "metadata": {
    "tags": []
   },
   "source": [
    "# Actions\n",
    "- `get_full_path(host, user, password)`\n",
    "- `summit_subprocess_slurm(slurm_shell, full_paths, dest_path, account)`"
   ]
  },
  {
   "cell_type": "markdown",
   "metadata": {},
   "source": [
    "## `get_full_paths()`"
   ]
  },
  {
   "cell_type": "code",
   "execution_count": null,
   "metadata": {},
   "outputs": [],
   "source": [
    "\n",
    "# define parameters\n",
    "host = ''\n",
    "user = ''\n",
    "password = ''\n",
    "\n",
    "# get full URLs for each samples\n",
    "# use get_full_paths to get FPT URLs\n",
    "full_paths = get_full_paths(host, user, password)\n",
    "filtered_paths = [p for p in full_paths if 'Undetermined' not in p]\n",
    "\n",
    "for item in filtered_paths:\n",
    "    print(item)"
   ]
  },
  {
   "cell_type": "markdown",
   "metadata": {},
   "source": [
    "## `summit_subprocess_slurm`"
   ]
  },
  {
   "cell_type": "code",
   "execution_count": 26,
   "metadata": {
    "tags": []
   },
   "outputs": [
    {
     "data": {
      "text/plain": [
       "\u001b[0;31mSignature:\u001b[0m \u001b[0mftp\u001b[0m\u001b[0;34m.\u001b[0m\u001b[0mlogin\u001b[0m\u001b[0;34m(\u001b[0m\u001b[0muser\u001b[0m\u001b[0;34m=\u001b[0m\u001b[0;34m''\u001b[0m\u001b[0;34m,\u001b[0m \u001b[0mpasswd\u001b[0m\u001b[0;34m=\u001b[0m\u001b[0;34m''\u001b[0m\u001b[0;34m,\u001b[0m \u001b[0macct\u001b[0m\u001b[0;34m=\u001b[0m\u001b[0;34m''\u001b[0m\u001b[0;34m)\u001b[0m\u001b[0;34m\u001b[0m\u001b[0;34m\u001b[0m\u001b[0m\n",
       "\u001b[0;31mDocstring:\u001b[0m Login, default anonymous.\n",
       "\u001b[0;31mFile:\u001b[0m      /opt/python/3.12.5/lib/python3.12/ftplib.py\n",
       "\u001b[0;31mType:\u001b[0m      method"
      ]
     },
     "metadata": {},
     "output_type": "display_data"
    }
   ],
   "source": [
    "# define parameters\n",
    "main_dir = '/data/hps/assoc/private/sarthy_lab/NGS/FASTQs'\n",
    "dest_path = os.path.join(main_dir, 'testing_GBe11')\n",
    "cluster_account = 'cpu-Sarthy_lab-sponsored'\n",
    "mail_user = 'chao-jen.wong@seattlechildrens.org'\n",
    "slurm_shell = os.path.join(main_dir, \n",
    "                           '/data/hps/assoc/private/sarthy_lab/user/cwo11/projects/wget_novogene_using_slurm/wget_novogene.sh')\n",
    "\n",
    "# call summit_subprocess_slurm\n",
    "resutls = summit_subprocess_slurm(slurm_shell = slurm_shell, \n",
    "                                  full_paths  = filtered_paths, \n",
    "                                  dest_path   = dest_path, \n",
    "                                  mail_user   = mail_user,\n",
    "                                  account     = cluster_account)"
   ]
  }
 ],
 "metadata": {
  "kernelspec": {
   "display_name": "Python 3 (ipykernel)",
   "language": "python",
   "name": "python3"
  },
  "language_info": {
   "codemirror_mode": {
    "name": "ipython",
    "version": 3
   },
   "file_extension": ".py",
   "mimetype": "text/x-python",
   "name": "python",
   "nbconvert_exporter": "python",
   "pygments_lexer": "ipython3",
   "version": "3.12.5"
  }
 },
 "nbformat": 4,
 "nbformat_minor": 4
}
